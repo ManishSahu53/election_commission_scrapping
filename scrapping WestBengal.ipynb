{
 "cells": [
  {
   "cell_type": "code",
   "execution_count": 2,
   "metadata": {},
   "outputs": [],
   "source": [
    "import requests\n",
    "import pandas as pd\n",
    "import numpy as np\n",
    "from bs4 import BeautifulSoup\n"
   ]
  },
  {
   "cell_type": "code",
   "execution_count": 45,
   "metadata": {
    "scrolled": true
   },
   "outputs": [
    {
     "name": "stdout",
     "output_type": "stream",
     "text": [
      "Getting Page: 1\n",
      "Number of Rows: 10, Page: 1\n",
      "Getting Page: 1\n",
      "Number of Rows: 10, Page: 2\n",
      "Getting Page: 2\n",
      "Number of Rows: 10, Page: 3\n",
      "Getting Page: 3\n",
      "Number of Rows: 10, Page: 4\n",
      "Getting Page: 4\n",
      "Number of Rows: 10, Page: 5\n",
      "Getting Page: 5\n",
      "Number of Rows: 10, Page: 6\n",
      "Getting Page: 6\n",
      "Number of Rows: 10, Page: 7\n",
      "Getting Page: 7\n",
      "Number of Rows: 10, Page: 8\n",
      "Getting Page: 8\n",
      "Number of Rows: 10, Page: 9\n",
      "Getting Page: 9\n",
      "Number of Rows: 10, Page: 10\n",
      "Getting Page: 10\n",
      "Number of Rows: 10, Page: 11\n",
      "Getting Page: 11\n",
      "Number of Rows: 10, Page: 12\n",
      "Getting Page: 12\n",
      "Number of Rows: 10, Page: 13\n",
      "Getting Page: 13\n",
      "Number of Rows: 10, Page: 14\n",
      "Getting Page: 14\n",
      "Number of Rows: 10, Page: 15\n",
      "Getting Page: 15\n",
      "Number of Rows: 10, Page: 16\n",
      "Getting Page: 16\n",
      "Number of Rows: 10, Page: 17\n",
      "Getting Page: 17\n",
      "Number of Rows: 10, Page: 18\n",
      "Getting Page: 18\n",
      "Number of Rows: 10, Page: 19\n",
      "Getting Page: 19\n",
      "Number of Rows: 10, Page: 20\n",
      "Getting Page: 20\n",
      "Number of Rows: 10, Page: 21\n",
      "Getting Page: 21\n",
      "Number of Rows: 10, Page: 22\n",
      "Getting Page: 22\n",
      "Number of Rows: 10, Page: 23\n",
      "Getting Page: 23\n",
      "Number of Rows: 10, Page: 24\n",
      "Getting Page: 24\n",
      "Number of Rows: 10, Page: 25\n",
      "Getting Page: 25\n",
      "Number of Rows: 10, Page: 26\n",
      "Getting Page: 26\n",
      "Number of Rows: 10, Page: 27\n",
      "Getting Page: 27\n",
      "Number of Rows: 10, Page: 28\n",
      "Getting Page: 28\n",
      "Number of Rows: 10, Page: 29\n",
      "Getting Page: 29\n",
      "Number of Rows: 2, Page: 30\n"
     ]
    }
   ],
   "source": [
    "constituency = []\n",
    "winning_name = []\n",
    "winning_party = []\n",
    "margin = []\n",
    "    \n",
    "for i in range(1, 31):\n",
    "    print(f'Getting Page: {page}')\n",
    "    page = i\n",
    "    path_url = 'https://results.eci.gov.in/Result2021/statewiseS25{}.htm'.format(page)\n",
    "\n",
    "    response = requests.get(path_url)\n",
    "    soup = BeautifulSoup(response.text, 'html.parser')\n",
    "\n",
    "    table = soup.find('table')\n",
    "\n",
    "    rows = table.find_all(style='font-size:12px;')\n",
    "\n",
    "    print(f'Number of Rows: {len(rows)}, Page: {page}')\n",
    "\n",
    "    for i, r in enumerate(rows):\n",
    "        contents = r.contents\n",
    "        constituency.append(contents[0].contents[0])\n",
    "        winning_name.append(contents[-3].contents[0])\n",
    "        winning_party.append(contents[-2].contents[0])\n",
    "        margin.append(int(contents[-1].contents[0]))    "
   ]
  },
  {
   "cell_type": "code",
   "execution_count": 46,
   "metadata": {},
   "outputs": [],
   "source": [
    "data = pd.DataFrame(constituency, columns=['constituency'])\n",
    "\n",
    "data['winning_name'] = winning_name\n",
    "data['winning_party']= winning_party\n",
    "data['margin'] = margin\n",
    "    "
   ]
  },
  {
   "cell_type": "code",
   "execution_count": 47,
   "metadata": {},
   "outputs": [],
   "source": [
    "data.to_csv('Bengal_2021.csv', index=False)"
   ]
  },
  {
   "cell_type": "code",
   "execution_count": null,
   "metadata": {},
   "outputs": [],
   "source": []
  },
  {
   "cell_type": "code",
   "execution_count": null,
   "metadata": {},
   "outputs": [],
   "source": []
  },
  {
   "cell_type": "code",
   "execution_count": null,
   "metadata": {},
   "outputs": [],
   "source": []
  },
  {
   "cell_type": "code",
   "execution_count": null,
   "metadata": {},
   "outputs": [],
   "source": []
  }
 ],
 "metadata": {
  "kernelspec": {
   "display_name": "Python 3",
   "language": "python",
   "name": "python3"
  },
  "language_info": {
   "codemirror_mode": {
    "name": "ipython",
    "version": 3
   },
   "file_extension": ".py",
   "mimetype": "text/x-python",
   "name": "python",
   "nbconvert_exporter": "python",
   "pygments_lexer": "ipython3",
   "version": "3.6.9"
  }
 },
 "nbformat": 4,
 "nbformat_minor": 4
}
