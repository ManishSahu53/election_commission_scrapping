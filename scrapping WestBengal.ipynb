{
 "cells": [
  {
   "cell_type": "code",
   "execution_count": 50,
   "metadata": {},
   "outputs": [],
   "source": [
    "import requests\n",
    "import pandas as pd\n",
    "import numpy as np\n",
    "from bs4 import BeautifulSoup\n",
    "import matplotlib.pyplot as plt"
   ]
  },
  {
   "cell_type": "code",
   "execution_count": 105,
   "metadata": {
    "scrolled": true
   },
   "outputs": [
    {
     "name": "stdout",
     "output_type": "stream",
     "text": [
      "Getting Page: 1\n",
      "Number of Rows: 10, Page: 1\n",
      "Getting Page: 1\n",
      "Number of Rows: 10, Page: 2\n",
      "Getting Page: 2\n",
      "Number of Rows: 10, Page: 3\n",
      "Getting Page: 3\n",
      "Number of Rows: 10, Page: 4\n",
      "Getting Page: 4\n",
      "Number of Rows: 10, Page: 5\n",
      "Getting Page: 5\n",
      "Number of Rows: 10, Page: 6\n",
      "Getting Page: 6\n",
      "Number of Rows: 10, Page: 7\n",
      "Getting Page: 7\n",
      "Number of Rows: 10, Page: 8\n",
      "Getting Page: 8\n",
      "Number of Rows: 10, Page: 9\n",
      "Getting Page: 9\n",
      "Number of Rows: 10, Page: 10\n",
      "Getting Page: 10\n",
      "Number of Rows: 10, Page: 11\n",
      "Getting Page: 11\n",
      "Number of Rows: 10, Page: 12\n",
      "Getting Page: 12\n",
      "Number of Rows: 10, Page: 13\n",
      "Getting Page: 13\n",
      "Number of Rows: 10, Page: 14\n",
      "Getting Page: 14\n",
      "Number of Rows: 10, Page: 15\n",
      "Getting Page: 15\n",
      "Number of Rows: 10, Page: 16\n",
      "Getting Page: 16\n",
      "Number of Rows: 10, Page: 17\n",
      "Getting Page: 17\n",
      "Number of Rows: 10, Page: 18\n",
      "Getting Page: 18\n",
      "Number of Rows: 10, Page: 19\n",
      "Getting Page: 19\n",
      "Number of Rows: 10, Page: 20\n",
      "Getting Page: 20\n",
      "Number of Rows: 10, Page: 21\n",
      "Getting Page: 21\n",
      "Number of Rows: 10, Page: 22\n",
      "Getting Page: 22\n",
      "Number of Rows: 10, Page: 23\n",
      "Getting Page: 23\n",
      "Number of Rows: 10, Page: 24\n",
      "Getting Page: 24\n",
      "Number of Rows: 10, Page: 25\n",
      "Getting Page: 25\n",
      "Number of Rows: 10, Page: 26\n",
      "Getting Page: 26\n",
      "Number of Rows: 10, Page: 27\n",
      "Getting Page: 27\n",
      "Number of Rows: 10, Page: 28\n",
      "Getting Page: 28\n",
      "Number of Rows: 10, Page: 29\n",
      "Getting Page: 29\n",
      "Number of Rows: 2, Page: 30\n"
     ]
    }
   ],
   "source": [
    "constituency = []\n",
    "winning_name = []\n",
    "winning_party = []\n",
    "margin = []\n",
    "    \n",
    "for i in range(1, 31):\n",
    "    print(f'Getting Page: {page}')\n",
    "    page = i\n",
    "    path_url = 'https://results.eci.gov.in/Result2021/statewiseS25{}.htm'.format(page)\n",
    "\n",
    "    response = requests.get(path_url)\n",
    "    soup = BeautifulSoup(response.text, 'html.parser')\n",
    "\n",
    "    table = soup.find('table')\n",
    "\n",
    "    rows = table.find_all(style='font-size:12px;')\n",
    "\n",
    "    print(f'Number of Rows: {len(rows)}, Page: {page}')\n",
    "\n",
    "    for i, r in enumerate(rows):\n",
    "        contents = r.contents\n",
    "        constituency.append(contents[0].contents[0])\n",
    "        winning_name.append(contents[2].contents[0])\n",
    "        winning_party.append(contents[3].contents[0].contents[0].contents[0].contents[0].contents[0])\n",
    "        margin.append(int(contents[7].contents[0]))    "
   ]
  },
  {
   "cell_type": "code",
   "execution_count": 106,
   "metadata": {},
   "outputs": [],
   "source": [
    "data = pd.DataFrame(constituency, columns=['constituency'])\n",
    "\n",
    "data['winning_name'] = winning_name\n",
    "data['winning_party']= winning_party\n",
    "data['margin'] = margin\n",
    "    "
   ]
  },
  {
   "cell_type": "code",
   "execution_count": 107,
   "metadata": {},
   "outputs": [],
   "source": [
    "data.to_csv('Bengal_2021.csv', index=False)"
   ]
  },
  {
   "cell_type": "markdown",
   "metadata": {},
   "source": [
    "## EDA"
   ]
  },
  {
   "cell_type": "code",
   "execution_count": 71,
   "metadata": {
    "scrolled": true
   },
   "outputs": [
    {
     "name": "stdout",
     "output_type": "stream",
     "text": [
      "{'Bharatiya Janata Party', 'Independent', 'All India Trinamool Congress', 'Indian National Congress', 'Revolutionary Socialist Party', 'Communist Party of India  (Marxist)', 'All India Forward Bloc', 'Communist Party of India', 'Gorkha Janmukti Morcha'}\n"
     ]
    }
   ],
   "source": [
    "print(set(data['winning_party'].values))"
   ]
  },
  {
   "cell_type": "code",
   "execution_count": 74,
   "metadata": {
    "scrolled": true
   },
   "outputs": [
    {
     "data": {
      "text/plain": [
       "44"
      ]
     },
     "execution_count": 74,
     "metadata": {},
     "output_type": "execute_result"
    }
   ],
   "source": [
    "len(data[data['winning_party'] == 'Indian National Congress'])"
   ]
  },
  {
   "cell_type": "code",
   "execution_count": 51,
   "metadata": {},
   "outputs": [],
   "source": [
    "tmc_data = data[data['winning_party'] == 'All India Trinamool Congress']"
   ]
  },
  {
   "cell_type": "code",
   "execution_count": 58,
   "metadata": {
    "scrolled": true
   },
   "outputs": [
    {
     "data": {
      "text/plain": [
       "<a list of 20 Patch objects>"
      ]
     },
     "execution_count": 58,
     "metadata": {},
     "output_type": "execute_result"
    },
    {
     "data": {
      "image/png": "[encoded data removed]",
      "text/plain": [
       "<Figure size 432x288 with 1 Axes>"
      ]
     },
     "metadata": {
      "needs_background": "light"
     },
     "output_type": "display_data"
    }
   ],
   "source": [
    "plt.hist(tmc_data['margin'].values, range=[0, 10000], bins=20)[2]"
   ]
  },
  {
   "cell_type": "code",
   "execution_count": 59,
   "metadata": {},
   "outputs": [
    {
     "data": {
      "text/html": [
       "<div>\n",
       "<style scoped>\n",
       "    .dataframe tbody tr th:only-of-type {\n",
       "        vertical-align: middle;\n",
       "    }\n",
       "\n",
       "    .dataframe tbody tr th {\n",
       "        vertical-align: top;\n",
       "    }\n",
       "\n",
       "    .dataframe thead th {\n",
       "        text-align: right;\n",
       "    }\n",
       "</style>\n",
       "<table border=\"1\" class=\"dataframe\">\n",
       "  <thead>\n",
       "    <tr style=\"text-align: right;\">\n",
       "      <th></th>\n",
       "      <th>constituency</th>\n",
       "      <th>winning_name</th>\n",
       "      <th>winning_party</th>\n",
       "      <th>margin</th>\n",
       "    </tr>\n",
       "  </thead>\n",
       "  <tbody>\n",
       "    <tr>\n",
       "      <th>151</th>\n",
       "      <td>Katwa</td>\n",
       "      <td>RABINDRANATH CHATTERJEE</td>\n",
       "      <td>All India Trinamool Congress</td>\n",
       "      <td>911</td>\n",
       "    </tr>\n",
       "    <tr>\n",
       "      <th>198</th>\n",
       "      <td>Monteswar</td>\n",
       "      <td>SAJAL PANJA</td>\n",
       "      <td>All India Trinamool Congress</td>\n",
       "      <td>706</td>\n",
       "    </tr>\n",
       "    <tr>\n",
       "      <th>201</th>\n",
       "      <td>Murarai</td>\n",
       "      <td>ABDUR RAHAMAN (LITON)</td>\n",
       "      <td>All India Trinamool Congress</td>\n",
       "      <td>280</td>\n",
       "    </tr>\n",
       "    <tr>\n",
       "      <th>238</th>\n",
       "      <td>Raina</td>\n",
       "      <td>NEPAL GHORUI</td>\n",
       "      <td>All India Trinamool Congress</td>\n",
       "      <td>448</td>\n",
       "    </tr>\n",
       "  </tbody>\n",
       "</table>\n",
       "</div>"
      ],
      "text/plain": [
       "    constituency             winning_name                 winning_party  \\\n",
       "151        Katwa  RABINDRANATH CHATTERJEE  All India Trinamool Congress   \n",
       "198    Monteswar              SAJAL PANJA  All India Trinamool Congress   \n",
       "201      Murarai    ABDUR RAHAMAN (LITON)  All India Trinamool Congress   \n",
       "238        Raina             NEPAL GHORUI  All India Trinamool Congress   \n",
       "\n",
       "     margin  \n",
       "151     911  \n",
       "198     706  \n",
       "201     280  \n",
       "238     448  "
      ]
     },
     "execution_count": 59,
     "metadata": {},
     "output_type": "execute_result"
    }
   ],
   "source": [
    "tmc_data[tmc_data['margin'] < 1000]"
   ]
  },
  {
   "cell_type": "code",
   "execution_count": null,
   "metadata": {},
   "outputs": [],
   "source": []
  },
  {
   "cell_type": "code",
   "execution_count": null,
   "metadata": {},
   "outputs": [],
   "source": []
  },
  {
   "cell_type": "code",
   "execution_count": null,
   "metadata": {},
   "outputs": [],
   "source": []
  }
 ],
 "metadata": {
  "kernelspec": {
   "display_name": "Python 3",
   "language": "python",
   "name": "python3"
  },
  "language_info": {
   "codemirror_mode": {
    "name": "ipython",
    "version": 3
   },
   "file_extension": ".py",
   "mimetype": "text/x-python",
   "name": "python",
   "nbconvert_exporter": "python",
   "pygments_lexer": "ipython3",
   "version": "3.6.9"
  }
 },
 "nbformat": 4,
 "nbformat_minor": 4
}
